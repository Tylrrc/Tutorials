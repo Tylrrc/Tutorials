{
 "cells": [
  {
   "cell_type": "code",
   "execution_count": 91,
   "id": "designing-dublin",
   "metadata": {},
   "outputs": [],
   "source": [
    "# There are two principle methods of accessing values of a 'zip' object:\n",
    "\n",
    "# 1. By converting the 'zip' object to a list and iterating over the resulting list\n",
    "# 2. By iterating over the 'zip' object itself"
   ]
  },
  {
   "cell_type": "code",
   "execution_count": 92,
   "id": "enclosed-arthur",
   "metadata": {},
   "outputs": [],
   "source": [
    "# METHOD 1. By converting the 'zip' object to a list and iterating over the resulting list"
   ]
  },
  {
   "cell_type": "code",
   "execution_count": 93,
   "id": "objective-binary",
   "metadata": {},
   "outputs": [
    {
     "data": {
      "text/plain": [
       "([1, 3, 5, 7, 9], [2, 4, 6, 8, 10])"
      ]
     },
     "execution_count": 93,
     "metadata": {},
     "output_type": "execute_result"
    }
   ],
   "source": [
    "# Let's create two lists and display their respective contents\n",
    "\n",
    "x=[1,3,5,7,9]\n",
    "y=[2,4,6,8,10]\n",
    "x,y"
   ]
  },
  {
   "cell_type": "code",
   "execution_count": 94,
   "id": "beginning-brunei",
   "metadata": {},
   "outputs": [
    {
     "data": {
      "text/plain": [
       "([(1, 2), (3, 4), (5, 6), (7, 8), (9, 10)], list)"
      ]
     },
     "execution_count": 94,
     "metadata": {},
     "output_type": "execute_result"
    }
   ],
   "source": [
    "# Then, let's 'zip' the two lists together, convert the resulting 'zip' object to a list, and see what we get. \n",
    "# NOTE: The 'list()' function converts an input into a list, allowing for access by index\n",
    "\n",
    "z=list(zip(x,y))\n",
    "z, type(z)"
   ]
  },
  {
   "cell_type": "code",
   "execution_count": 95,
   "id": "eastern-spectacular",
   "metadata": {},
   "outputs": [],
   "source": [
    "# Passing 'x' and 'y' to the 'zip' and 'list' functions (in that particular order) yeilds a list of tuples.\n",
    "# The resulting list 'z' can be thought of as consisting of the following values:\n",
    "\n",
    "# z = [(x[0],y[0]),(x[1],y[1]),(x[2],y[2]),(x[3],y[3]),(x[4],y[4])]"
   ]
  },
  {
   "cell_type": "code",
   "execution_count": 96,
   "id": "improved-crest",
   "metadata": {},
   "outputs": [
    {
     "name": "stdout",
     "output_type": "stream",
     "text": [
      "(1, 2) == (1, 2)\n"
     ]
    }
   ],
   "source": [
    "# So, z[0] is equal to (x[0],y[0])\n",
    "print(z[0], \"==\" ,(x[0],y[0]))"
   ]
  },
  {
   "cell_type": "code",
   "execution_count": 97,
   "id": "compact-minute",
   "metadata": {},
   "outputs": [
    {
     "name": "stdout",
     "output_type": "stream",
     "text": [
      "(3, 4) == (3, 4)\n",
      "(5, 6) == (5, 6)\n",
      "(7, 8) == (7, 8)\n",
      "(9, 10) == (9, 10)\n"
     ]
    }
   ],
   "source": [
    "# and so on and so forth\n",
    "print(z[1], \"==\" ,(x[1],y[1]))\n",
    "print(z[2], \"==\" ,(x[2],y[2]))\n",
    "print(z[3], \"==\" ,(x[3],y[3]))\n",
    "print(z[4], \"==\" ,(x[4],y[4]))"
   ]
  },
  {
   "cell_type": "code",
   "execution_count": 98,
   "id": "expressed-greenhouse",
   "metadata": {},
   "outputs": [
    {
     "name": "stdout",
     "output_type": "stream",
     "text": [
      "(1, 2)\n",
      "(3, 4)\n",
      "(5, 6)\n",
      "(7, 8)\n",
      "(9, 10)\n"
     ]
    }
   ],
   "source": [
    "# Let's try to access the tuples in a loop by index\n",
    "\n",
    "for i in range(len(z)):\n",
    "    print(z[i])"
   ]
  },
  {
   "cell_type": "code",
   "execution_count": 99,
   "id": "right-agency",
   "metadata": {},
   "outputs": [
    {
     "name": "stdout",
     "output_type": "stream",
     "text": [
      "1 , 2\n",
      "3 , 4\n",
      "5 , 6\n",
      "7 , 8\n",
      "9 , 10\n"
     ]
    }
   ],
   "source": [
    "# Now let's access the individual elements inside each tuple by index\n",
    "\n",
    "for i in range(len(z)):\n",
    "    print(z[i][0],\",\",z[i][1])"
   ]
  },
  {
   "cell_type": "code",
   "execution_count": 100,
   "id": "interstate-browse",
   "metadata": {},
   "outputs": [],
   "source": [
    "# METHOD 2. By iterating over the 'zip' object itself"
   ]
  },
  {
   "cell_type": "code",
   "execution_count": 101,
   "id": "front-device",
   "metadata": {},
   "outputs": [
    {
     "data": {
      "text/plain": [
       "([1, 3, 5, 7, 9], [2, 4, 6, 8, 10])"
      ]
     },
     "execution_count": 101,
     "metadata": {},
     "output_type": "execute_result"
    }
   ],
   "source": [
    "# Let's again create two lists and display their respective contents\n",
    "\n",
    "x=[1,3,5,7,9]\n",
    "y=[2,4,6,8,10]\n",
    "x,y"
   ]
  },
  {
   "cell_type": "code",
   "execution_count": 102,
   "id": "above-cycle",
   "metadata": {},
   "outputs": [
    {
     "data": {
      "text/plain": [
       "(<zip at 0x7f2ffc0b5280>, zip)"
      ]
     },
     "execution_count": 102,
     "metadata": {},
     "output_type": "execute_result"
    }
   ],
   "source": [
    "# This time, we're just going to zip the two lists together and use the resulting 'zip object'\n",
    "# NOTE: Unlike the first example, we are not converting the 'zip' object to a list\n",
    "\n",
    "z=zip(x,y)\n",
    "z, type(z)"
   ]
  },
  {
   "cell_type": "code",
   "execution_count": 103,
   "id": "outdoor-appointment",
   "metadata": {},
   "outputs": [
    {
     "name": "stdout",
     "output_type": "stream",
     "text": [
      "Loop: 1\n",
      "\t (1, 2)\n",
      "\t 1 2\n",
      "Loop: 2\n",
      "\t (3, 4)\n",
      "\t 3 4\n",
      "Loop: 3\n",
      "\t (5, 6)\n",
      "\t 5 6\n",
      "Loop: 4\n",
      "\t (7, 8)\n",
      "\t 7 8\n",
      "Loop: 5\n",
      "\t (9, 10)\n",
      "\t 9 10\n"
     ]
    }
   ],
   "source": [
    "# Since we're now dealing with a 'zip' object, we'll need to access its contents with an iterator. \n",
    "# Since the 'zip' object 'z' consists of 5 tuples, we can access the entire tuple, or the individual elements within the tuple\n",
    "# VERY IMPORTANT: Once you iterate through a 'zip' object (like we're doing below), it is exhausted and cannot be iterated through again. \n",
    "\n",
    "count = 1\n",
    "for zipIterator in z:\n",
    "    \n",
    "    print(\"Loop:\",count)\n",
    "    \n",
    "    # Let's print the entire tuple first\n",
    "    print(\"\\t\",zipIterator)\n",
    "    \n",
    "    # Then, let's access the elements in each tuple\n",
    "    print(\"\\t\",zipIterator[0],zipIterator[1])\n",
    "    \n",
    "    count+=1"
   ]
  },
  {
   "cell_type": "code",
   "execution_count": null,
   "id": "ultimate-imaging",
   "metadata": {},
   "outputs": [],
   "source": []
  },
  {
   "cell_type": "code",
   "execution_count": null,
   "id": "guided-spring",
   "metadata": {},
   "outputs": [],
   "source": []
  },
  {
   "cell_type": "code",
   "execution_count": null,
   "id": "sustainable-enhancement",
   "metadata": {},
   "outputs": [],
   "source": []
  },
  {
   "cell_type": "code",
   "execution_count": null,
   "id": "martial-abortion",
   "metadata": {},
   "outputs": [],
   "source": []
  },
  {
   "cell_type": "code",
   "execution_count": null,
   "id": "tired-christianity",
   "metadata": {},
   "outputs": [],
   "source": []
  },
  {
   "cell_type": "code",
   "execution_count": null,
   "id": "southeast-force",
   "metadata": {},
   "outputs": [],
   "source": []
  }
 ],
 "metadata": {
  "kernelspec": {
   "display_name": "Python 3",
   "language": "python",
   "name": "python3"
  },
  "language_info": {
   "codemirror_mode": {
    "name": "ipython",
    "version": 3
   },
   "file_extension": ".py",
   "mimetype": "text/x-python",
   "name": "python",
   "nbconvert_exporter": "python",
   "pygments_lexer": "ipython3",
   "version": "3.8.5"
  }
 },
 "nbformat": 4,
 "nbformat_minor": 5
}
